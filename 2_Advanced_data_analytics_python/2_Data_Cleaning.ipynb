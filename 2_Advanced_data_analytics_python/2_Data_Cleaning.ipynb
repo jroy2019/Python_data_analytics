{
 "cells": [
  {
   "cell_type": "code",
   "execution_count": null,
   "id": "402ed15f",
   "metadata": {},
   "outputs": [
    {
     "name": "stdout",
     "output_type": "stream",
     "text": [
      "2.2.3\n"
     ]
    }
   ],
   "source": [
    "#Importing Libraries\n",
    "import pandas as pd\n",
    "import matplotlib.pyplot as plt\n",
    "from datasets import load_dataset\n",
    "\n",
    "print(pd.__version__)\n",
    "\n",
    "# Load Data\n",
    "dataset = load_dataset('lukebarousse/data_jobs')\n",
    "\n",
    "# Convert dataset to pandas DataFrame\n",
    "df = dataset['train'].to_pandas()\n",
    "\n",
    "# Change string to datetime ('job_posted_date' column)\n",
    "df['job_posted_date'] = pd.to_datetime(df['job_posted_date'])\n"
   ]
  },
  {
   "cell_type": "code",
   "execution_count": 35,
   "id": "a79ba482",
   "metadata": {},
   "outputs": [
    {
     "data": {
      "text/plain": [
       "115000.0"
      ]
     },
     "execution_count": 35,
     "metadata": {},
     "output_type": "execute_result"
    }
   ],
   "source": [
    "median_year_salary = df['salary_year_avg'].median()\n",
    "median_year_salary"
   ]
  },
  {
   "cell_type": "code",
   "execution_count": 36,
   "id": "ffc581d0",
   "metadata": {},
   "outputs": [
    {
     "name": "stdout",
     "output_type": "stream",
     "text": [
      "45.98\n"
     ]
    }
   ],
   "source": [
    "median_hour_salary = df['salary_hour_avg'].median()\n",
    "print(f\"{median_hour_salary:.2f}\")"
   ]
  },
  {
   "cell_type": "code",
   "execution_count": 38,
   "id": "922071e9",
   "metadata": {},
   "outputs": [],
   "source": [
    "df_filled = df\n",
    "df_filled['salary_year_avg'] = df_filled['salary_year_avg'].fillna(median_year_salary)\n",
    "df_filled['salary_hour_avg'] = df_filled['salary_hour_avg'].fillna(median_hour_salary) "
   ]
  },
  {
   "cell_type": "code",
   "execution_count": 40,
   "id": "3ef71584",
   "metadata": {},
   "outputs": [
    {
     "data": {
      "text/html": [
       "<div>\n",
       "<style scoped>\n",
       "    .dataframe tbody tr th:only-of-type {\n",
       "        vertical-align: middle;\n",
       "    }\n",
       "\n",
       "    .dataframe tbody tr th {\n",
       "        vertical-align: top;\n",
       "    }\n",
       "\n",
       "    .dataframe thead th {\n",
       "        text-align: right;\n",
       "    }\n",
       "</style>\n",
       "<table border=\"1\" class=\"dataframe\">\n",
       "  <thead>\n",
       "    <tr style=\"text-align: right;\">\n",
       "      <th></th>\n",
       "      <th>salary_year_avg</th>\n",
       "      <th>salary_hour_avg</th>\n",
       "    </tr>\n",
       "  </thead>\n",
       "  <tbody>\n",
       "    <tr>\n",
       "      <th>0</th>\n",
       "      <td>115000.0</td>\n",
       "      <td>45.98</td>\n",
       "    </tr>\n",
       "    <tr>\n",
       "      <th>1</th>\n",
       "      <td>115000.0</td>\n",
       "      <td>45.98</td>\n",
       "    </tr>\n",
       "    <tr>\n",
       "      <th>2</th>\n",
       "      <td>115000.0</td>\n",
       "      <td>45.98</td>\n",
       "    </tr>\n",
       "    <tr>\n",
       "      <th>3</th>\n",
       "      <td>115000.0</td>\n",
       "      <td>45.98</td>\n",
       "    </tr>\n",
       "    <tr>\n",
       "      <th>4</th>\n",
       "      <td>115000.0</td>\n",
       "      <td>45.98</td>\n",
       "    </tr>\n",
       "    <tr>\n",
       "      <th>5</th>\n",
       "      <td>115000.0</td>\n",
       "      <td>45.98</td>\n",
       "    </tr>\n",
       "    <tr>\n",
       "      <th>6</th>\n",
       "      <td>115000.0</td>\n",
       "      <td>45.98</td>\n",
       "    </tr>\n",
       "    <tr>\n",
       "      <th>7</th>\n",
       "      <td>115000.0</td>\n",
       "      <td>45.98</td>\n",
       "    </tr>\n",
       "    <tr>\n",
       "      <th>8</th>\n",
       "      <td>115000.0</td>\n",
       "      <td>45.98</td>\n",
       "    </tr>\n",
       "    <tr>\n",
       "      <th>9</th>\n",
       "      <td>115000.0</td>\n",
       "      <td>45.98</td>\n",
       "    </tr>\n",
       "  </tbody>\n",
       "</table>\n",
       "</div>"
      ],
      "text/plain": [
       "   salary_year_avg  salary_hour_avg\n",
       "0         115000.0            45.98\n",
       "1         115000.0            45.98\n",
       "2         115000.0            45.98\n",
       "3         115000.0            45.98\n",
       "4         115000.0            45.98\n",
       "5         115000.0            45.98\n",
       "6         115000.0            45.98\n",
       "7         115000.0            45.98\n",
       "8         115000.0            45.98\n",
       "9         115000.0            45.98"
      ]
     },
     "execution_count": 40,
     "metadata": {},
     "output_type": "execute_result"
    }
   ],
   "source": [
    "df_filled.loc[:, 'salary_year_avg':'salary_hour_avg'].head(10)"
   ]
  },
  {
   "cell_type": "code",
   "execution_count": 41,
   "id": "8cbb8b46",
   "metadata": {},
   "outputs": [],
   "source": [
    "df_unique = df_filled\n",
    "df_unique = df_unique.drop_duplicates() #drop cols based of all columns"
   ]
  },
  {
   "cell_type": "code",
   "execution_count": 42,
   "id": "8b197f98",
   "metadata": {},
   "outputs": [
    {
     "data": {
      "text/plain": [
       "(785741, 785741, 785640)"
      ]
     },
     "execution_count": 42,
     "metadata": {},
     "output_type": "execute_result"
    }
   ],
   "source": [
    "len(df), len(df_filled), len(df_unique)"
   ]
  },
  {
   "cell_type": "code",
   "execution_count": null,
   "id": "b0e33003",
   "metadata": {},
   "outputs": [
    {
     "data": {
      "text/plain": [
       "101"
      ]
     },
     "execution_count": 43,
     "metadata": {},
     "output_type": "execute_result"
    }
   ],
   "source": [
    "len(df_filled) - len(df_unique)\n",
    "#dropped 101 duplicate row"
   ]
  },
  {
   "cell_type": "code",
   "execution_count": null,
   "id": "16a87f6f",
   "metadata": {},
   "outputs": [],
   "source": [
    "df_unique = df_unique.drop_duplicates(subset = ['job_title', 'company_name']) #drop cols based on specific cols"
   ]
  },
  {
   "cell_type": "code",
   "execution_count": null,
   "id": "83c33e89",
   "metadata": {},
   "outputs": [
    {
     "data": {
      "text/plain": [
       "277699"
      ]
     },
     "execution_count": 22,
     "metadata": {},
     "output_type": "execute_result"
    }
   ],
   "source": [
    "len(df_filled) - len(df_unique) \n",
    "#dropped 277699 duplicate rows"
   ]
  }
 ],
 "metadata": {
  "kernelspec": {
   "display_name": "python_basics_course",
   "language": "python",
   "name": "python3"
  },
  "language_info": {
   "codemirror_mode": {
    "name": "ipython",
    "version": 3
   },
   "file_extension": ".py",
   "mimetype": "text/x-python",
   "name": "python",
   "nbconvert_exporter": "python",
   "pygments_lexer": "ipython3",
   "version": "3.11.13"
  }
 },
 "nbformat": 4,
 "nbformat_minor": 5
}
