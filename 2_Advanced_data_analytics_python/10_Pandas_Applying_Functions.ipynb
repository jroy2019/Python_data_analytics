{
 "cells": [
  {
   "cell_type": "code",
   "execution_count": 63,
   "id": "e481d385",
   "metadata": {},
   "outputs": [
    {
     "name": "stdout",
     "output_type": "stream",
     "text": [
      "2.2.3\n"
     ]
    }
   ],
   "source": [
    "#Importing Libraries\n",
    "import pandas as pd\n",
    "import matplotlib.pyplot as plt\n",
    "from datasets import load_dataset\n",
    "\n",
    "print(pd.__version__)\n",
    "\n",
    "# Load Data\n",
    "dataset = load_dataset('lukebarousse/data_jobs')\n",
    "\n",
    "# Convert dataset to pandas DataFrame\n",
    "df = dataset['train'].to_pandas()\n",
    "\n",
    "# Change string to datetime ('job_posted_date' column)\n",
    "df['job_posted_date'] = pd.to_datetime(df['job_posted_date'])\n"
   ]
  },
  {
   "cell_type": "code",
   "execution_count": 6,
   "id": "7b0d2ea3",
   "metadata": {},
   "outputs": [
    {
     "data": {
      "text/plain": [
       "28        109500.0\n",
       "77        140000.0\n",
       "92        120000.0\n",
       "100       228222.0\n",
       "109        89000.0\n",
       "            ...   \n",
       "785624    139216.0\n",
       "785641    150000.0\n",
       "785648    221875.0\n",
       "785682    157500.0\n",
       "785692    157500.0\n",
       "Name: salary_year_avg, Length: 22003, dtype: float64"
      ]
     },
     "execution_count": 6,
     "metadata": {},
     "output_type": "execute_result"
    }
   ],
   "source": [
    "df[pd.notna(df['salary_year_avg'])]['salary_year_avg']"
   ]
  },
  {
   "cell_type": "code",
   "execution_count": null,
   "id": "af59c58a",
   "metadata": {},
   "outputs": [],
   "source": [
    "#create a function to calulate projected salary in a year\n",
    "def projected_salary(salary):\n",
    "    projected_salary = salary * 1.03\n",
    "    return projected_salary\n",
    "\n",
    "df_salary = df[pd.notna(df['salary_year_avg'])].copy()\n",
    "df_salary['predicted_salary_2024'] = df_salary['salary_year_avg'].apply(projected_salary)\n"
   ]
  },
  {
   "cell_type": "code",
   "execution_count": 23,
   "id": "54cdab38",
   "metadata": {},
   "outputs": [
    {
     "data": {
      "text/html": [
       "<div>\n",
       "<style scoped>\n",
       "    .dataframe tbody tr th:only-of-type {\n",
       "        vertical-align: middle;\n",
       "    }\n",
       "\n",
       "    .dataframe tbody tr th {\n",
       "        vertical-align: top;\n",
       "    }\n",
       "\n",
       "    .dataframe thead th {\n",
       "        text-align: right;\n",
       "    }\n",
       "</style>\n",
       "<table border=\"1\" class=\"dataframe\">\n",
       "  <thead>\n",
       "    <tr style=\"text-align: right;\">\n",
       "      <th></th>\n",
       "      <th>salary_year_avg</th>\n",
       "      <th>predicted_salary_2024</th>\n",
       "    </tr>\n",
       "  </thead>\n",
       "  <tbody>\n",
       "    <tr>\n",
       "      <th>28</th>\n",
       "      <td>109500.0</td>\n",
       "      <td>112785.00</td>\n",
       "    </tr>\n",
       "    <tr>\n",
       "      <th>77</th>\n",
       "      <td>140000.0</td>\n",
       "      <td>144200.00</td>\n",
       "    </tr>\n",
       "    <tr>\n",
       "      <th>92</th>\n",
       "      <td>120000.0</td>\n",
       "      <td>123600.00</td>\n",
       "    </tr>\n",
       "    <tr>\n",
       "      <th>100</th>\n",
       "      <td>228222.0</td>\n",
       "      <td>235068.66</td>\n",
       "    </tr>\n",
       "    <tr>\n",
       "      <th>109</th>\n",
       "      <td>89000.0</td>\n",
       "      <td>91670.00</td>\n",
       "    </tr>\n",
       "  </tbody>\n",
       "</table>\n",
       "</div>"
      ],
      "text/plain": [
       "     salary_year_avg  predicted_salary_2024\n",
       "28          109500.0              112785.00\n",
       "77          140000.0              144200.00\n",
       "92          120000.0              123600.00\n",
       "100         228222.0              235068.66\n",
       "109          89000.0               91670.00"
      ]
     },
     "execution_count": 23,
     "metadata": {},
     "output_type": "execute_result"
    }
   ],
   "source": [
    "df_salary[['salary_year_avg', 'predicted_salary_2024']].head()"
   ]
  },
  {
   "cell_type": "code",
   "execution_count": null,
   "id": "8a63262b",
   "metadata": {},
   "outputs": [],
   "source": [
    "#one line \n",
    "df_salary['predicted_salary_2024'] = df_salary['salary_year_avg'].apply(lambda salary: salary * 1.03)"
   ]
  },
  {
   "cell_type": "code",
   "execution_count": 28,
   "id": "38506262",
   "metadata": {},
   "outputs": [
    {
     "data": {
      "text/html": [
       "<div>\n",
       "<style scoped>\n",
       "    .dataframe tbody tr th:only-of-type {\n",
       "        vertical-align: middle;\n",
       "    }\n",
       "\n",
       "    .dataframe tbody tr th {\n",
       "        vertical-align: top;\n",
       "    }\n",
       "\n",
       "    .dataframe thead th {\n",
       "        text-align: right;\n",
       "    }\n",
       "</style>\n",
       "<table border=\"1\" class=\"dataframe\">\n",
       "  <thead>\n",
       "    <tr style=\"text-align: right;\">\n",
       "      <th></th>\n",
       "      <th>salary_year_avg</th>\n",
       "      <th>predicted_salary_2024</th>\n",
       "    </tr>\n",
       "  </thead>\n",
       "  <tbody>\n",
       "    <tr>\n",
       "      <th>28</th>\n",
       "      <td>109500.0</td>\n",
       "      <td>112785.00</td>\n",
       "    </tr>\n",
       "    <tr>\n",
       "      <th>77</th>\n",
       "      <td>140000.0</td>\n",
       "      <td>144200.00</td>\n",
       "    </tr>\n",
       "    <tr>\n",
       "      <th>92</th>\n",
       "      <td>120000.0</td>\n",
       "      <td>123600.00</td>\n",
       "    </tr>\n",
       "    <tr>\n",
       "      <th>100</th>\n",
       "      <td>228222.0</td>\n",
       "      <td>235068.66</td>\n",
       "    </tr>\n",
       "    <tr>\n",
       "      <th>109</th>\n",
       "      <td>89000.0</td>\n",
       "      <td>91670.00</td>\n",
       "    </tr>\n",
       "  </tbody>\n",
       "</table>\n",
       "</div>"
      ],
      "text/plain": [
       "     salary_year_avg  predicted_salary_2024\n",
       "28          109500.0              112785.00\n",
       "77          140000.0              144200.00\n",
       "92          120000.0              123600.00\n",
       "100         228222.0              235068.66\n",
       "109          89000.0               91670.00"
      ]
     },
     "execution_count": 28,
     "metadata": {},
     "output_type": "execute_result"
    }
   ],
   "source": [
    "df_salary[['salary_year_avg', 'predicted_salary_2024']].head()"
   ]
  },
  {
   "cell_type": "code",
   "execution_count": null,
   "id": "611684ee",
   "metadata": {},
   "outputs": [],
   "source": [
    "#or \n",
    "df_salary['predicted_salary_2024'] = df_salary['salary_year_avg'] * 1.03"
   ]
  },
  {
   "cell_type": "code",
   "execution_count": 30,
   "id": "a39e16be",
   "metadata": {},
   "outputs": [
    {
     "data": {
      "text/html": [
       "<div>\n",
       "<style scoped>\n",
       "    .dataframe tbody tr th:only-of-type {\n",
       "        vertical-align: middle;\n",
       "    }\n",
       "\n",
       "    .dataframe tbody tr th {\n",
       "        vertical-align: top;\n",
       "    }\n",
       "\n",
       "    .dataframe thead th {\n",
       "        text-align: right;\n",
       "    }\n",
       "</style>\n",
       "<table border=\"1\" class=\"dataframe\">\n",
       "  <thead>\n",
       "    <tr style=\"text-align: right;\">\n",
       "      <th></th>\n",
       "      <th>salary_year_avg</th>\n",
       "      <th>predicted_salary_2024</th>\n",
       "    </tr>\n",
       "  </thead>\n",
       "  <tbody>\n",
       "    <tr>\n",
       "      <th>28</th>\n",
       "      <td>109500.0</td>\n",
       "      <td>112785.00</td>\n",
       "    </tr>\n",
       "    <tr>\n",
       "      <th>77</th>\n",
       "      <td>140000.0</td>\n",
       "      <td>144200.00</td>\n",
       "    </tr>\n",
       "    <tr>\n",
       "      <th>92</th>\n",
       "      <td>120000.0</td>\n",
       "      <td>123600.00</td>\n",
       "    </tr>\n",
       "    <tr>\n",
       "      <th>100</th>\n",
       "      <td>228222.0</td>\n",
       "      <td>235068.66</td>\n",
       "    </tr>\n",
       "    <tr>\n",
       "      <th>109</th>\n",
       "      <td>89000.0</td>\n",
       "      <td>91670.00</td>\n",
       "    </tr>\n",
       "  </tbody>\n",
       "</table>\n",
       "</div>"
      ],
      "text/plain": [
       "     salary_year_avg  predicted_salary_2024\n",
       "28          109500.0              112785.00\n",
       "77          140000.0              144200.00\n",
       "92          120000.0              123600.00\n",
       "100         228222.0              235068.66\n",
       "109          89000.0               91670.00"
      ]
     },
     "execution_count": 30,
     "metadata": {},
     "output_type": "execute_result"
    }
   ],
   "source": [
    "df_salary[['salary_year_avg', 'predicted_salary_2024']].head()"
   ]
  },
  {
   "cell_type": "code",
   "execution_count": null,
   "id": "eafb8db9",
   "metadata": {},
   "outputs": [
    {
     "data": {
      "text/plain": [
       "\"['r', 'python', 'sql', 'nosql', 'power bi', 'tableau']\""
      ]
     },
     "execution_count": 37,
     "metadata": {},
     "output_type": "execute_result"
    }
   ],
   "source": [
    "df['job_skills'][1]\n",
    "#list but python thinks its a string"
   ]
  },
  {
   "cell_type": "code",
   "execution_count": 39,
   "id": "2914dcc6",
   "metadata": {},
   "outputs": [
    {
     "data": {
      "text/plain": [
       "str"
      ]
     },
     "execution_count": 39,
     "metadata": {},
     "output_type": "execute_result"
    }
   ],
   "source": [
    "type(df['job_skills'][1])"
   ]
  },
  {
   "cell_type": "code",
   "execution_count": 64,
   "id": "d2b25ad0",
   "metadata": {},
   "outputs": [
    {
     "data": {
      "text/plain": [
       "['r', 'python', 'sql', 'nosql', 'power bi', 'tableau']"
      ]
     },
     "execution_count": 64,
     "metadata": {},
     "output_type": "execute_result"
    }
   ],
   "source": [
    "import ast \n",
    "ast.literal_eval(df['job_skills'][1])"
   ]
  },
  {
   "cell_type": "code",
   "execution_count": 43,
   "id": "36c21203",
   "metadata": {},
   "outputs": [
    {
     "data": {
      "text/plain": [
       "list"
      ]
     },
     "execution_count": 43,
     "metadata": {},
     "output_type": "execute_result"
    }
   ],
   "source": [
    "type(ast.literal_eval(df['job_skills'][1]))"
   ]
  },
  {
   "cell_type": "code",
   "execution_count": 49,
   "id": "3f5b7814",
   "metadata": {},
   "outputs": [],
   "source": [
    "def clean_list(string_list):\n",
    "    if type(string_list) == str:\n",
    "        return ast.literal_eval(string_list)\n",
    "    else:\n",
    "        return string_list"
   ]
  },
  {
   "cell_type": "code",
   "execution_count": 50,
   "id": "f5a94d4a",
   "metadata": {},
   "outputs": [],
   "source": [
    "df['job_skills'] = df['job_skills'].apply(clean_list)"
   ]
  },
  {
   "cell_type": "code",
   "execution_count": 54,
   "id": "c507e825",
   "metadata": {},
   "outputs": [
    {
     "data": {
      "text/plain": [
       "list"
      ]
     },
     "execution_count": 54,
     "metadata": {},
     "output_type": "execute_result"
    }
   ],
   "source": [
    "type(df['job_skills'][2])"
   ]
  },
  {
   "cell_type": "code",
   "execution_count": 55,
   "id": "6a6a2f37",
   "metadata": {},
   "outputs": [
    {
     "data": {
      "text/plain": [
       "NoneType"
      ]
     },
     "execution_count": 55,
     "metadata": {},
     "output_type": "execute_result"
    }
   ],
   "source": [
    "type(df['job_skills'][0])"
   ]
  },
  {
   "cell_type": "code",
   "execution_count": null,
   "id": "bb7f3ce1",
   "metadata": {},
   "outputs": [],
   "source": [
    "df['job_skills'] = df['job_skills'].apply(lambda string_list: ast.literal_eval(string_list) if pd.notna(string_list) else string_list)\n",
    "\n"
   ]
  },
  {
   "cell_type": "code",
   "execution_count": 66,
   "id": "7d4d5ac5",
   "metadata": {},
   "outputs": [],
   "source": [
    "df['job_skills'][0]"
   ]
  },
  {
   "cell_type": "code",
   "execution_count": 67,
   "id": "e1bd3090",
   "metadata": {},
   "outputs": [
    {
     "data": {
      "text/plain": [
       "['python',\n",
       " 'sql',\n",
       " 'c#',\n",
       " 'azure',\n",
       " 'airflow',\n",
       " 'dax',\n",
       " 'docker',\n",
       " 'kubernetes',\n",
       " 'jenkins']"
      ]
     },
     "execution_count": 67,
     "metadata": {},
     "output_type": "execute_result"
    }
   ],
   "source": [
    "df['job_skills'][2]"
   ]
  },
  {
   "cell_type": "markdown",
   "id": "de215441",
   "metadata": {},
   "source": []
  },
  {
   "cell_type": "markdown",
   "id": "59319e12",
   "metadata": {},
   "source": [
    "Calculate Inflated Salary based on position (Junior vs Senior)"
   ]
  },
  {
   "cell_type": "code",
   "execution_count": 72,
   "id": "2da4a97d",
   "metadata": {},
   "outputs": [],
   "source": [
    "def projected_salary(row):\n",
    "   if 'Senior' in row['job_title_short']:\n",
    "      return row['salary_year_avg'] * 1.05\n",
    "   else:\n",
    "      return row['salary_year_avg'] * 1.03\n",
    "    "
   ]
  },
  {
   "cell_type": "code",
   "execution_count": 74,
   "id": "2581347f",
   "metadata": {},
   "outputs": [],
   "source": [
    "df_salary = df[pd.notna(df['salary_year_avg'])].copy()"
   ]
  },
  {
   "cell_type": "code",
   "execution_count": 76,
   "id": "9a4dd88a",
   "metadata": {},
   "outputs": [],
   "source": [
    "df_salary['projected_salary_2024'] = df_salary.apply(projected_salary, axis=1)"
   ]
  },
  {
   "cell_type": "code",
   "execution_count": 78,
   "id": "4ba762f5",
   "metadata": {},
   "outputs": [
    {
     "data": {
      "text/html": [
       "<div>\n",
       "<style scoped>\n",
       "    .dataframe tbody tr th:only-of-type {\n",
       "        vertical-align: middle;\n",
       "    }\n",
       "\n",
       "    .dataframe tbody tr th {\n",
       "        vertical-align: top;\n",
       "    }\n",
       "\n",
       "    .dataframe thead th {\n",
       "        text-align: right;\n",
       "    }\n",
       "</style>\n",
       "<table border=\"1\" class=\"dataframe\">\n",
       "  <thead>\n",
       "    <tr style=\"text-align: right;\">\n",
       "      <th></th>\n",
       "      <th>salary_year_avg</th>\n",
       "      <th>projected_salary_2024</th>\n",
       "      <th>job_title_short</th>\n",
       "    </tr>\n",
       "  </thead>\n",
       "  <tbody>\n",
       "    <tr>\n",
       "      <th>491834</th>\n",
       "      <td>165000.0</td>\n",
       "      <td>173250.000</td>\n",
       "      <td>Senior Data Engineer</td>\n",
       "    </tr>\n",
       "    <tr>\n",
       "      <th>768425</th>\n",
       "      <td>142500.0</td>\n",
       "      <td>146775.000</td>\n",
       "      <td>Data Scientist</td>\n",
       "    </tr>\n",
       "    <tr>\n",
       "      <th>419700</th>\n",
       "      <td>96773.0</td>\n",
       "      <td>99676.190</td>\n",
       "      <td>Data Engineer</td>\n",
       "    </tr>\n",
       "    <tr>\n",
       "      <th>176561</th>\n",
       "      <td>100000.0</td>\n",
       "      <td>103000.000</td>\n",
       "      <td>Data Engineer</td>\n",
       "    </tr>\n",
       "    <tr>\n",
       "      <th>473492</th>\n",
       "      <td>194000.0</td>\n",
       "      <td>199820.000</td>\n",
       "      <td>Data Engineer</td>\n",
       "    </tr>\n",
       "    <tr>\n",
       "      <th>732814</th>\n",
       "      <td>147500.0</td>\n",
       "      <td>151925.000</td>\n",
       "      <td>Data Engineer</td>\n",
       "    </tr>\n",
       "    <tr>\n",
       "      <th>536147</th>\n",
       "      <td>112500.0</td>\n",
       "      <td>115875.000</td>\n",
       "      <td>Data Engineer</td>\n",
       "    </tr>\n",
       "    <tr>\n",
       "      <th>546987</th>\n",
       "      <td>150000.0</td>\n",
       "      <td>154500.000</td>\n",
       "      <td>Data Scientist</td>\n",
       "    </tr>\n",
       "    <tr>\n",
       "      <th>655547</th>\n",
       "      <td>125000.0</td>\n",
       "      <td>131250.000</td>\n",
       "      <td>Senior Data Scientist</td>\n",
       "    </tr>\n",
       "    <tr>\n",
       "      <th>228777</th>\n",
       "      <td>195500.0</td>\n",
       "      <td>201365.000</td>\n",
       "      <td>Data Scientist</td>\n",
       "    </tr>\n",
       "    <tr>\n",
       "      <th>475549</th>\n",
       "      <td>224500.0</td>\n",
       "      <td>231235.000</td>\n",
       "      <td>Data Scientist</td>\n",
       "    </tr>\n",
       "    <tr>\n",
       "      <th>323673</th>\n",
       "      <td>99150.0</td>\n",
       "      <td>102124.500</td>\n",
       "      <td>Data Scientist</td>\n",
       "    </tr>\n",
       "    <tr>\n",
       "      <th>230411</th>\n",
       "      <td>156000.0</td>\n",
       "      <td>160680.000</td>\n",
       "      <td>Data Scientist</td>\n",
       "    </tr>\n",
       "    <tr>\n",
       "      <th>731606</th>\n",
       "      <td>115000.0</td>\n",
       "      <td>120750.000</td>\n",
       "      <td>Senior Data Scientist</td>\n",
       "    </tr>\n",
       "    <tr>\n",
       "      <th>536369</th>\n",
       "      <td>204000.0</td>\n",
       "      <td>210120.000</td>\n",
       "      <td>Data Scientist</td>\n",
       "    </tr>\n",
       "    <tr>\n",
       "      <th>288147</th>\n",
       "      <td>199000.0</td>\n",
       "      <td>204970.000</td>\n",
       "      <td>Data Scientist</td>\n",
       "    </tr>\n",
       "    <tr>\n",
       "      <th>492114</th>\n",
       "      <td>160136.5</td>\n",
       "      <td>164940.595</td>\n",
       "      <td>Data Scientist</td>\n",
       "    </tr>\n",
       "    <tr>\n",
       "      <th>394463</th>\n",
       "      <td>90000.0</td>\n",
       "      <td>92700.000</td>\n",
       "      <td>Data Analyst</td>\n",
       "    </tr>\n",
       "    <tr>\n",
       "      <th>415126</th>\n",
       "      <td>45000.0</td>\n",
       "      <td>46350.000</td>\n",
       "      <td>Data Analyst</td>\n",
       "    </tr>\n",
       "    <tr>\n",
       "      <th>395741</th>\n",
       "      <td>147500.0</td>\n",
       "      <td>151925.000</td>\n",
       "      <td>Data Analyst</td>\n",
       "    </tr>\n",
       "  </tbody>\n",
       "</table>\n",
       "</div>"
      ],
      "text/plain": [
       "        salary_year_avg  projected_salary_2024        job_title_short\n",
       "491834         165000.0             173250.000   Senior Data Engineer\n",
       "768425         142500.0             146775.000         Data Scientist\n",
       "419700          96773.0              99676.190          Data Engineer\n",
       "176561         100000.0             103000.000          Data Engineer\n",
       "473492         194000.0             199820.000          Data Engineer\n",
       "732814         147500.0             151925.000          Data Engineer\n",
       "536147         112500.0             115875.000          Data Engineer\n",
       "546987         150000.0             154500.000         Data Scientist\n",
       "655547         125000.0             131250.000  Senior Data Scientist\n",
       "228777         195500.0             201365.000         Data Scientist\n",
       "475549         224500.0             231235.000         Data Scientist\n",
       "323673          99150.0             102124.500         Data Scientist\n",
       "230411         156000.0             160680.000         Data Scientist\n",
       "731606         115000.0             120750.000  Senior Data Scientist\n",
       "536369         204000.0             210120.000         Data Scientist\n",
       "288147         199000.0             204970.000         Data Scientist\n",
       "492114         160136.5             164940.595         Data Scientist\n",
       "394463          90000.0              92700.000           Data Analyst\n",
       "415126          45000.0              46350.000           Data Analyst\n",
       "395741         147500.0             151925.000           Data Analyst"
      ]
     },
     "execution_count": 78,
     "metadata": {},
     "output_type": "execute_result"
    }
   ],
   "source": [
    "df_salary[['salary_year_avg', 'projected_salary_2024', 'job_title_short']].sample(20)"
   ]
  },
  {
   "cell_type": "code",
   "execution_count": null,
   "id": "da140737",
   "metadata": {},
   "outputs": [],
   "source": []
  }
 ],
 "metadata": {
  "kernelspec": {
   "display_name": "python_basics_course",
   "language": "python",
   "name": "python3"
  },
  "language_info": {
   "codemirror_mode": {
    "name": "ipython",
    "version": 3
   },
   "file_extension": ".py",
   "mimetype": "text/x-python",
   "name": "python",
   "nbconvert_exporter": "python",
   "pygments_lexer": "ipython3",
   "version": "3.11.13"
  }
 },
 "nbformat": 4,
 "nbformat_minor": 5
}
